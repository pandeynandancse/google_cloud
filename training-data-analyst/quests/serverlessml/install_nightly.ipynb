{
 "cells": [
  {
   "cell_type": "code",
   "execution_count": 6,
   "metadata": {},
   "outputs": [
    {
     "name": "stdout",
     "output_type": "stream",
     "text": [
      "Note: you may need to restart the kernel to use updated packages.\n"
     ]
    }
   ],
   "source": [
    "%pip install --upgrade --quiet tf-nightly-2.0-preview #tf-nightly"
   ]
  },
  {
   "cell_type": "code",
   "execution_count": 1,
   "metadata": {},
   "outputs": [
    {
     "name": "stdout",
     "output_type": "stream",
     "text": [
      "2.0.0-dev20190612\n"
     ]
    }
   ],
   "source": [
    "import tensorflow as tf\n",
    "print(tf.__version__)"
   ]
  },
  {
   "cell_type": "code",
   "execution_count": 2,
   "metadata": {},
   "outputs": [
    {
     "name": "stdout",
     "output_type": "stream",
     "text": [
      "2.0.0-dev20190612\n"
     ]
    },
    {
     "name": "stderr",
     "output_type": "stream",
     "text": [
      "WARNING: Logging before flag parsing goes to stderr.\n",
      "W0612 19:17:13.772991 140674492196608 deprecation.py:323] From /home/jupyter/.local/lib/python3.5/site-packages/tensorflow_core/python/feature_column/feature_column_v2.py:2703: add_dispatch_support.<locals>.wrapper (from tensorflow.python.ops.array_ops) is deprecated and will be removed in a future version.\n",
      "Instructions for updating:\n",
      "Use tf.where in 2.0, which has the same broadcast rule as np.where\n",
      "W0612 19:17:13.804085 140674492196608 deprecation.py:323] From /home/jupyter/.local/lib/python3.5/site-packages/tensorflow_core/python/feature_column/feature_column_v2.py:4266: IndicatorColumn._variable_shape (from tensorflow.python.feature_column.feature_column_v2) is deprecated and will be removed in a future version.\n",
      "Instructions for updating:\n",
      "The old _FeatureColumn APIs are being deprecated. Please use the new FeatureColumn APIs instead.\n",
      "W0612 19:17:13.805199 140674492196608 deprecation.py:323] From /home/jupyter/.local/lib/python3.5/site-packages/tensorflow_core/python/feature_column/feature_column_v2.py:4321: VocabularyListCategoricalColumn._num_buckets (from tensorflow.python.feature_column.feature_column_v2) is deprecated and will be removed in a future version.\n",
      "Instructions for updating:\n",
      "The old _FeatureColumn APIs are being deprecated. Please use the new FeatureColumn APIs instead.\n"
     ]
    },
    {
     "name": "stdout",
     "output_type": "stream",
     "text": [
      "Train on 1 samples\n",
      "\n",
      "Epoch 00001: saving model to 04_keras/checkpoints/nightly.cpt\n",
      "1/1 [==============================] - 0s 86ms/step - loss: 2.1036\n"
     ]
    },
    {
     "data": {
      "text/plain": [
       "array([[1.4258742]], dtype=float32)"
      ]
     },
     "execution_count": 2,
     "metadata": {},
     "output_type": "execute_result"
    }
   ],
   "source": [
    "import tensorflow as tf\n",
    "import pandas as pd\n",
    "print(tf.__version__)\n",
    "import shutil\n",
    "import os\n",
    "\n",
    "inputs = {\n",
    "    'a' : tf.keras.layers.Input(name='a', shape=(), dtype='float32'),\n",
    "    'b' : tf.keras.layers.Input(name='b', shape=(), dtype='string'),\n",
    "}\n",
    "fc = {\n",
    "    'a' : tf.feature_column.numeric_column('a'),\n",
    "    'b' : tf.feature_column.indicator_column(\n",
    "        tf.feature_column.categorical_column_with_vocabulary_list('b', ['one', 'two'])\n",
    "    )\n",
    "}\n",
    "\n",
    "ds = tf.keras.layers.DenseFeatures(fc.values())(inputs)\n",
    "output = tf.keras.layers.Dense(1, name='pred')(ds)\n",
    "model = tf.keras.models.Model(inputs=inputs, outputs=output)\n",
    "model.compile(optimizer='adam', loss='mse')\n",
    "\n",
    "df = pd.DataFrame.from_dict({\n",
    "    'a': [3.0, 2.0, 1.0],\n",
    "    'b': ['one', 'one', 'two'],\n",
    "})\n",
    "y =  [3.0, 2.0, 2.0]\n",
    "\n",
    "\n",
    "shutil.rmtree('04_keras/checkpoints/', ignore_errors=True)\n",
    "checkpoint_path = \"04_keras/checkpoints/nightly.cpt\"\n",
    "cp_callback = tf.keras.callbacks.ModelCheckpoint(checkpoint_path, \n",
    "                                                 save_weights_only=True,\n",
    "                                                 verbose=1)\n",
    "\n",
    "model.fit([df['a'], df['b']], y, steps_per_epoch=1, callbacks=[cp_callback])\n",
    "\n",
    "model.predict({\n",
    "    'a': tf.convert_to_tensor([3.0]),\n",
    "    'b': tf.convert_to_tensor(['one']),\n",
    "})"
   ]
  },
  {
   "cell_type": "code",
   "execution_count": 3,
   "metadata": {},
   "outputs": [
    {
     "data": {
      "image/png": "[encoded data removed]",
      "text/plain": [
       "<IPython.core.display.Image object>"
      ]
     },
     "execution_count": 3,
     "metadata": {},
     "output_type": "execute_result"
    }
   ],
   "source": [
    "tf.keras.utils.plot_model(model, 'repro_model.png', show_shapes=True)"
   ]
  },
  {
   "cell_type": "code",
   "execution_count": 4,
   "metadata": {},
   "outputs": [
    {
     "data": {
      "text/plain": [
       "array([[1.4258742]], dtype=float32)"
      ]
     },
     "execution_count": 4,
     "metadata": {},
     "output_type": "execute_result"
    }
   ],
   "source": [
    "# Save as h5\n",
    "model.save('04_keras/export/simple.h5')\n",
    "newmodel = tf.keras.models.load_model('04_keras/export/simple.h5')\n",
    "newmodel.predict({\n",
    "    'a': tf.convert_to_tensor([3.0]),\n",
    "    'b': tf.convert_to_tensor(['one']),\n",
    "})"
   ]
  },
  {
   "cell_type": "code",
   "execution_count": 7,
   "metadata": {},
   "outputs": [
    {
     "name": "stderr",
     "output_type": "stream",
     "text": [
      "W0612 19:23:05.972875 140674492196608 util.py:252] Unresolved object in checkpoint: (root).optimizer\n",
      "W0612 19:23:05.974306 140674492196608 util.py:252] Unresolved object in checkpoint: (root).optimizer.iter\n",
      "W0612 19:23:05.975281 140674492196608 util.py:252] Unresolved object in checkpoint: (root).optimizer.beta_1\n",
      "W0612 19:23:05.976092 140674492196608 util.py:252] Unresolved object in checkpoint: (root).optimizer.beta_2\n",
      "W0612 19:23:05.976853 140674492196608 util.py:252] Unresolved object in checkpoint: (root).optimizer.decay\n",
      "W0612 19:23:05.977819 140674492196608 util.py:252] Unresolved object in checkpoint: (root).optimizer.learning_rate\n",
      "W0612 19:23:05.978675 140674492196608 util.py:252] Unresolved object in checkpoint: (root).optimizer's state 'm' for (root).layer_with_weights-0.kernel\n",
      "W0612 19:23:05.979555 140674492196608 util.py:252] Unresolved object in checkpoint: (root).optimizer's state 'm' for (root).layer_with_weights-0.bias\n",
      "W0612 19:23:05.980253 140674492196608 util.py:252] Unresolved object in checkpoint: (root).optimizer's state 'v' for (root).layer_with_weights-0.kernel\n",
      "W0612 19:23:05.983061 140674492196608 util.py:252] Unresolved object in checkpoint: (root).optimizer's state 'v' for (root).layer_with_weights-0.bias\n",
      "W0612 19:23:05.985897 140674492196608 util.py:260] A checkpoint was restored (e.g. tf.train.Checkpoint.restore or tf.keras.Model.load_weights) but not all checkpointed values were used. See above for specific issues. Use expect_partial() on the load status object, e.g. tf.train.Checkpoint.restore(...).expect_partial(), to silence these warnings, or use assert_consumed() to make the check explicit. See https://www.tensorflow.org/alpha/guide/checkpoints#loading_mechanics for details.\n",
      "W0612 19:23:06.327611 140674492196608 export_utils.py:182] Export includes no default signature!\n",
      "W0612 19:23:06.539291 140674492196608 export_utils.py:182] Export includes no default signature!\n"
     ]
    }
   ],
   "source": [
    "# export as SavedModel\n",
    "shutil.rmtree('04_keras/export/savedmodel', ignore_errors=True)\n",
    "tf.keras.experimental.export_saved_model(model, '04_keras/export/savedmodel')"
   ]
  },
  {
   "cell_type": "code",
   "execution_count": 8,
   "metadata": {},
   "outputs": [
    {
     "name": "stdout",
     "output_type": "stream",
     "text": [
      "The given SavedModel SignatureDef contains the following input(s):\n",
      "  inputs['a'] tensor_info:\n",
      "      dtype: DT_FLOAT\n",
      "      shape: (-1)\n",
      "      name: a:0\n",
      "  inputs['b'] tensor_info:\n",
      "      dtype: DT_STRING\n",
      "      shape: (-1)\n",
      "      name: b:0\n",
      "The given SavedModel SignatureDef contains the following output(s):\n",
      "  outputs['pred'] tensor_info:\n",
      "      dtype: DT_FLOAT\n",
      "      shape: (-1, 1)\n",
      "      name: pred/BiasAdd:0\n",
      "Method name is: tensorflow/serving/predict\n"
     ]
    }
   ],
   "source": [
    "!saved_model_cli show --tag_set serve --signature_def serving_default --dir 04_keras/export/savedmodel"
   ]
  },
  {
   "cell_type": "code",
   "execution_count": 10,
   "metadata": {},
   "outputs": [
    {
     "name": "stdout",
     "output_type": "stream",
     "text": [
      "04_keras/export/savedmodel\n",
      "04_keras/export/savedmodel/assets\n",
      "04_keras/export/savedmodel/assets/saved_model.json\n",
      "04_keras/export/savedmodel/variables\n",
      "04_keras/export/savedmodel/variables/variables.data-00001-of-00002\n",
      "04_keras/export/savedmodel/variables/variables.index\n",
      "04_keras/export/savedmodel/variables/variables.data-00000-of-00001\n",
      "04_keras/export/savedmodel/variables/variables.data-00000-of-00002\n",
      "04_keras/export/savedmodel/variables/checkpoint\n",
      "04_keras/export/savedmodel/saved_model.pb\n"
     ]
    }
   ],
   "source": [
    "!find 04_keras/export/savedmodel"
   ]
  },
  {
   "cell_type": "code",
   "execution_count": 9,
   "metadata": {},
   "outputs": [
    {
     "name": "stderr",
     "output_type": "stream",
     "text": [
      "W0612 19:23:30.495895 140674492196608 util.py:252] Unresolved object in checkpoint: (root).optimizer\n",
      "W0612 19:23:30.497070 140674492196608 util.py:252] Unresolved object in checkpoint: (root).optimizer.iter\n",
      "W0612 19:23:30.497906 140674492196608 util.py:252] Unresolved object in checkpoint: (root).optimizer.beta_1\n",
      "W0612 19:23:30.498796 140674492196608 util.py:252] Unresolved object in checkpoint: (root).optimizer.beta_2\n",
      "W0612 19:23:30.499513 140674492196608 util.py:252] Unresolved object in checkpoint: (root).optimizer.decay\n",
      "W0612 19:23:30.500395 140674492196608 util.py:252] Unresolved object in checkpoint: (root).optimizer.learning_rate\n",
      "W0612 19:23:30.501069 140674492196608 util.py:252] Unresolved object in checkpoint: (root).optimizer's state 'm' for (root).layer_with_weights-0.kernel\n",
      "W0612 19:23:30.501825 140674492196608 util.py:252] Unresolved object in checkpoint: (root).optimizer's state 'm' for (root).layer_with_weights-0.bias\n",
      "W0612 19:23:30.502604 140674492196608 util.py:252] Unresolved object in checkpoint: (root).optimizer's state 'v' for (root).layer_with_weights-0.kernel\n",
      "W0612 19:23:30.503686 140674492196608 util.py:252] Unresolved object in checkpoint: (root).optimizer's state 'v' for (root).layer_with_weights-0.bias\n",
      "W0612 19:23:30.504345 140674492196608 util.py:260] A checkpoint was restored (e.g. tf.train.Checkpoint.restore or tf.keras.Model.load_weights) but not all checkpointed values were used. See above for specific issues. Use expect_partial() on the load status object, e.g. tf.train.Checkpoint.restore(...).expect_partial(), to silence these warnings, or use assert_consumed() to make the check explicit. See https://www.tensorflow.org/alpha/guide/checkpoints#loading_mechanics for details.\n",
      "W0612 19:23:30.750999 140674492196608 util.py:252] Unresolved object in checkpoint: (root).optimizer.beta_1\n",
      "W0612 19:23:30.752660 140674492196608 util.py:252] Unresolved object in checkpoint: (root).optimizer.beta_2\n",
      "W0612 19:23:30.753874 140674492196608 util.py:252] Unresolved object in checkpoint: (root).optimizer.decay\n",
      "W0612 19:23:30.755094 140674492196608 util.py:252] Unresolved object in checkpoint: (root).optimizer.learning_rate\n",
      "W0612 19:23:30.756233 140674492196608 util.py:252] Unresolved object in checkpoint: (root).optimizer's state 'm' for (root).layer_with_weights-0.kernel\n",
      "W0612 19:23:30.757660 140674492196608 util.py:252] Unresolved object in checkpoint: (root).optimizer's state 'm' for (root).layer_with_weights-0.bias\n",
      "W0612 19:23:30.758920 140674492196608 util.py:252] Unresolved object in checkpoint: (root).optimizer's state 'v' for (root).layer_with_weights-0.kernel\n",
      "W0612 19:23:30.760004 140674492196608 util.py:252] Unresolved object in checkpoint: (root).optimizer's state 'v' for (root).layer_with_weights-0.bias\n",
      "W0612 19:23:30.760653 140674492196608 util.py:260] A checkpoint was restored (e.g. tf.train.Checkpoint.restore or tf.keras.Model.load_weights) but not all checkpointed values were used. See above for specific issues. Use expect_partial() on the load status object, e.g. tf.train.Checkpoint.restore(...).expect_partial(), to silence these warnings, or use assert_consumed() to make the check explicit. See https://www.tensorflow.org/alpha/guide/checkpoints#loading_mechanics for details.\n",
      "W0612 19:23:30.770530 140674492196608 util.py:252] Unresolved object in checkpoint: (root).optimizer.beta_1\n",
      "W0612 19:23:30.772325 140674492196608 util.py:252] Unresolved object in checkpoint: (root).optimizer.beta_2\n",
      "W0612 19:23:30.773706 140674492196608 util.py:252] Unresolved object in checkpoint: (root).optimizer.decay\n",
      "W0612 19:23:30.775022 140674492196608 util.py:252] Unresolved object in checkpoint: (root).optimizer.learning_rate\n",
      "W0612 19:23:30.776249 140674492196608 util.py:252] Unresolved object in checkpoint: (root).optimizer's state 'm' for (root).layer_with_weights-0.kernel\n",
      "W0612 19:23:30.777518 140674492196608 util.py:252] Unresolved object in checkpoint: (root).optimizer's state 'm' for (root).layer_with_weights-0.bias\n",
      "W0612 19:23:30.778856 140674492196608 util.py:252] Unresolved object in checkpoint: (root).optimizer's state 'v' for (root).layer_with_weights-0.kernel\n",
      "W0612 19:23:30.779945 140674492196608 util.py:252] Unresolved object in checkpoint: (root).optimizer's state 'v' for (root).layer_with_weights-0.bias\n",
      "W0612 19:23:30.781020 140674492196608 util.py:260] A checkpoint was restored (e.g. tf.train.Checkpoint.restore or tf.keras.Model.load_weights) but not all checkpointed values were used. See above for specific issues. Use expect_partial() on the load status object, e.g. tf.train.Checkpoint.restore(...).expect_partial(), to silence these warnings, or use assert_consumed() to make the check explicit. See https://www.tensorflow.org/alpha/guide/checkpoints#loading_mechanics for details.\n"
     ]
    },
    {
     "ename": "NotFoundError",
     "evalue": "04_keras/export/saved_model/assets/saved_model.json; No such file or directory",
     "output_type": "error",
     "traceback": [
      "\u001b[0;31m---------------------------------------------------------------------------\u001b[0m",
      "\u001b[0;31mNotFoundError\u001b[0m                             Traceback (most recent call last)",
      "\u001b[0;32m<ipython-input-9-97b01310a683>\u001b[0m in \u001b[0;36m<module>\u001b[0;34m\u001b[0m\n\u001b[0;32m----> 1\u001b[0;31m \u001b[0mloaded_model\u001b[0m \u001b[0;34m=\u001b[0m \u001b[0mtf\u001b[0m\u001b[0;34m.\u001b[0m\u001b[0mkeras\u001b[0m\u001b[0;34m.\u001b[0m\u001b[0mexperimental\u001b[0m\u001b[0;34m.\u001b[0m\u001b[0mload_from_saved_model\u001b[0m\u001b[0;34m(\u001b[0m\u001b[0;34m'04_keras/export/saved_model'\u001b[0m\u001b[0;34m)\u001b[0m\u001b[0;34m\u001b[0m\u001b[0m\n\u001b[0m",
      "\u001b[0;32m~/.local/lib/python3.5/site-packages/tensorflow_core/python/keras/saving/saved_model.py\u001b[0m in \u001b[0;36mload_from_saved_model\u001b[0;34m(saved_model_path, custom_objects)\u001b[0m\n\u001b[1;32m    439\u001b[0m       \u001b[0mcompat\u001b[0m\u001b[0;34m.\u001b[0m\u001b[0mas_bytes\u001b[0m\u001b[0;34m(\u001b[0m\u001b[0mconstants\u001b[0m\u001b[0;34m.\u001b[0m\u001b[0mASSETS_DIRECTORY\u001b[0m\u001b[0;34m)\u001b[0m\u001b[0;34m,\u001b[0m\u001b[0;34m\u001b[0m\u001b[0m\n\u001b[1;32m    440\u001b[0m       compat.as_bytes(constants.SAVED_MODEL_FILENAME_JSON))\n\u001b[0;32m--> 441\u001b[0;31m   \u001b[0mmodel_json\u001b[0m \u001b[0;34m=\u001b[0m \u001b[0mfile_io\u001b[0m\u001b[0;34m.\u001b[0m\u001b[0mread_file_to_string\u001b[0m\u001b[0;34m(\u001b[0m\u001b[0mmodel_json_filepath\u001b[0m\u001b[0;34m)\u001b[0m\u001b[0;34m\u001b[0m\u001b[0m\n\u001b[0m\u001b[1;32m    442\u001b[0m   \u001b[0mmodel\u001b[0m \u001b[0;34m=\u001b[0m \u001b[0mmodel_from_json\u001b[0m\u001b[0;34m(\u001b[0m\u001b[0mmodel_json\u001b[0m\u001b[0;34m,\u001b[0m \u001b[0mcustom_objects\u001b[0m\u001b[0;34m=\u001b[0m\u001b[0mcustom_objects\u001b[0m\u001b[0;34m)\u001b[0m\u001b[0;34m\u001b[0m\u001b[0m\n\u001b[1;32m    443\u001b[0m \u001b[0;34m\u001b[0m\u001b[0m\n",
      "\u001b[0;32m~/.local/lib/python3.5/site-packages/tensorflow_core/python/lib/io/file_io.py\u001b[0m in \u001b[0;36mread_file_to_string\u001b[0;34m(filename, binary_mode)\u001b[0m\n\u001b[1;32m    331\u001b[0m   \u001b[0;32melse\u001b[0m\u001b[0;34m:\u001b[0m\u001b[0;34m\u001b[0m\u001b[0m\n\u001b[1;32m    332\u001b[0m     \u001b[0mf\u001b[0m \u001b[0;34m=\u001b[0m \u001b[0mFileIO\u001b[0m\u001b[0;34m(\u001b[0m\u001b[0mfilename\u001b[0m\u001b[0;34m,\u001b[0m \u001b[0mmode\u001b[0m\u001b[0;34m=\u001b[0m\u001b[0;34m\"r\"\u001b[0m\u001b[0;34m)\u001b[0m\u001b[0;34m\u001b[0m\u001b[0m\n\u001b[0;32m--> 333\u001b[0;31m   \u001b[0;32mreturn\u001b[0m \u001b[0mf\u001b[0m\u001b[0;34m.\u001b[0m\u001b[0mread\u001b[0m\u001b[0;34m(\u001b[0m\u001b[0;34m)\u001b[0m\u001b[0;34m\u001b[0m\u001b[0m\n\u001b[0m\u001b[1;32m    334\u001b[0m \u001b[0;34m\u001b[0m\u001b[0m\n\u001b[1;32m    335\u001b[0m \u001b[0;34m\u001b[0m\u001b[0m\n",
      "\u001b[0;32m~/.local/lib/python3.5/site-packages/tensorflow_core/python/lib/io/file_io.py\u001b[0m in \u001b[0;36mread\u001b[0;34m(self, n)\u001b[0m\n\u001b[1;32m    120\u001b[0m       \u001b[0mstring\u001b[0m \u001b[0;32mif\u001b[0m \u001b[0;32min\u001b[0m \u001b[0mstring\u001b[0m \u001b[0;34m(\u001b[0m\u001b[0mregular\u001b[0m\u001b[0;34m)\u001b[0m \u001b[0mmode\u001b[0m\u001b[0;34m.\u001b[0m\u001b[0;34m\u001b[0m\u001b[0m\n\u001b[1;32m    121\u001b[0m     \"\"\"\n\u001b[0;32m--> 122\u001b[0;31m     \u001b[0mself\u001b[0m\u001b[0;34m.\u001b[0m\u001b[0m_preread_check\u001b[0m\u001b[0;34m(\u001b[0m\u001b[0;34m)\u001b[0m\u001b[0;34m\u001b[0m\u001b[0m\n\u001b[0m\u001b[1;32m    123\u001b[0m     \u001b[0;32mif\u001b[0m \u001b[0mn\u001b[0m \u001b[0;34m==\u001b[0m \u001b[0;34m-\u001b[0m\u001b[0;36m1\u001b[0m\u001b[0;34m:\u001b[0m\u001b[0;34m\u001b[0m\u001b[0m\n\u001b[1;32m    124\u001b[0m       \u001b[0mlength\u001b[0m \u001b[0;34m=\u001b[0m \u001b[0mself\u001b[0m\u001b[0;34m.\u001b[0m\u001b[0msize\u001b[0m\u001b[0;34m(\u001b[0m\u001b[0;34m)\u001b[0m \u001b[0;34m-\u001b[0m \u001b[0mself\u001b[0m\u001b[0;34m.\u001b[0m\u001b[0mtell\u001b[0m\u001b[0;34m(\u001b[0m\u001b[0;34m)\u001b[0m\u001b[0;34m\u001b[0m\u001b[0m\n",
      "\u001b[0;32m~/.local/lib/python3.5/site-packages/tensorflow_core/python/lib/io/file_io.py\u001b[0m in \u001b[0;36m_preread_check\u001b[0;34m(self)\u001b[0m\n\u001b[1;32m     82\u001b[0m                                            \"File isn't open for reading\")\n\u001b[1;32m     83\u001b[0m       self._read_buf = pywrap_tensorflow.CreateBufferedInputStream(\n\u001b[0;32m---> 84\u001b[0;31m           compat.as_bytes(self.__name), 1024 * 512)\n\u001b[0m\u001b[1;32m     85\u001b[0m \u001b[0;34m\u001b[0m\u001b[0m\n\u001b[1;32m     86\u001b[0m   \u001b[0;32mdef\u001b[0m \u001b[0m_prewrite_check\u001b[0m\u001b[0;34m(\u001b[0m\u001b[0mself\u001b[0m\u001b[0;34m)\u001b[0m\u001b[0;34m:\u001b[0m\u001b[0;34m\u001b[0m\u001b[0m\n",
      "\u001b[0;31mNotFoundError\u001b[0m: 04_keras/export/saved_model/assets/saved_model.json; No such file or directory"
     ]
    }
   ],
   "source": [
    "# restore from SavedModel\n",
    "loaded_model = tf.keras.experimental.load_from_saved_model('04_keras/export/saved_model')"
   ]
  },
  {
   "cell_type": "code",
   "execution_count": null,
   "metadata": {},
   "outputs": [],
   "source": []
  }
 ],
 "metadata": {
  "kernelspec": {
   "display_name": "Python 3",
   "language": "python",
   "name": "python3"
  },
  "language_info": {
   "codemirror_mode": {
    "name": "ipython",
    "version": 3
   },
   "file_extension": ".py",
   "mimetype": "text/x-python",
   "name": "python",
   "nbconvert_exporter": "python",
   "pygments_lexer": "ipython3",
   "version": "3.5.3"
  }
 },
 "nbformat": 4,
 "nbformat_minor": 2
}
